{
 "cells": [
  {
   "cell_type": "markdown",
   "metadata": {},
   "source": [
    "# **DATA PREPARATION**"
   ]
  },
  {
   "cell_type": "markdown",
   "metadata": {},
   "source": [
    "Cupidatat enim ex in anim nisi nisi esse fugiat aliqua. Consectetur velit labore ipsum irure nostrud laborum magna cupidatat velit. Ut aliquip ut ea labore mollit nulla cupidatat commodo ex exercitation velit occaecat.\n",
    "\n",
    "Aute amet velit Lorem nisi minim commodo tempor. Anim laboris sunt exercitation tempor do deserunt consequat consequat voluptate. Qui cillum esse ipsum consectetur exercitation velit duis exercitation eiusmod. Consectetur aliqua tempor in cillum ex do proident eiusmod eiusmod enim dolore et proident. Culpa Lorem laboris incididunt ad esse ipsum. Nulla occaecat elit commodo aliquip ut esse deserunt amet aute culpa ipsum ad. Ex esse ea sit cupidatat reprehenderit id dolor deserunt.\n",
    "\n",
    "Velit Lorem incididunt qui Lorem labore deserunt. Occaecat tempor elit sit enim magna sint duis tempor. Sunt adipisicing ex sunt nisi id magna reprehenderit incididunt culpa. Magna non mollit anim aute minim amet pariatur non.\n",
    "\n",
    "Cillum pariatur sunt ipsum laboris elit sunt. Reprehenderit sunt cillum dolore culpa Lorem cupidatat esse consequat. Eu officia sint mollit magna veniam aliqua ut aute in mollit eiusmod ad in. Nulla in veniam nostrud irure amet eu exercitation. Sunt proident occaecat cupidatat qui dolor consectetur ut. Ea cupidatat exercitation magna aliqua. Aliquip cupidatat labore nisi pariatur adipisicing et ipsum qui esse do Lorem excepteur qui."
   ]
  },
  {
   "cell_type": "markdown",
   "metadata": {},
   "source": [
    "## Klasifikasi Naive Bayes\n",
    "\n",
    "### Class : \n",
    "\n",
    "1. binary class\n",
    "2. multi class\n",
    "\n",
    "### Fitur\n",
    "1. numerik : menggunakan untuk menghitunga fitur ini  = propabilitas gaussian\n",
    "\n",
    "Rumus = \n",
    "\n",
    " - variansi \n",
    "\n",
    " - standard devisiansi\n",
    "\n",
    "- Propabilitas gaussian\n",
    "\n",
    "2. kategorikal : \n",
    "\n",
    "### Propabilitas\n",
    "data a / seluruh data\n",
    "\n",
    "### Propabilitas Bersyarat\n",
    "data a / data b\n",
    "\n",
    "### Prinsip dasar teorema bayes\n",
    "\n",
    "- posterior \n",
    "- likelihood\n",
    "- prior\n"
   ]
  }
 ],
 "metadata": {
  "language_info": {
   "name": "python"
  }
 },
 "nbformat": 4,
 "nbformat_minor": 2
}
