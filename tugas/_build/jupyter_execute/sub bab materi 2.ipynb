{
 "cells": [
  {
   "cell_type": "markdown",
   "metadata": {},
   "source": [
    "# Materi 2\n",
    "\n",
    "Velit eiusmod do veniam adipisicing occaecat laborum aliquip esse commodo nulla aliqua Lorem. Amet tempor laboris esse Lorem aliqua fugiat deserunt voluptate. Adipisicing laborum pariatur exercitation dolore ut nostrud culpa deserunt adipisicing occaecat. Consequat pariatur cillum nulla laboris dolore enim tempor reprehenderit.\n",
    "\n",
    "Incididunt anim dolor nisi qui nostrud non dolore proident dolore. Elit nostrud et ipsum eiusmod dolor. Lorem aliquip officia qui officia culpa labore dolor aliquip fugiat aliquip consectetur aliquip excepteur. Nostrud esse mollit culpa eu ex sint mollit id. In velit incididunt aliqua ad culpa officia sint ut minim culpa ea minim. Minim esse occaecat aute cillum duis ex minim occaecat tempor commodo incididunt tempor."
   ]
  }
 ],
 "metadata": {
  "kernelspec": {
   "display_name": "Python 3",
   "language": "python",
   "name": "python3"
  },
  "language_info": {
   "codemirror_mode": {
    "name": "ipython",
    "version": 3
   },
   "file_extension": ".py",
   "mimetype": "text/x-python",
   "name": "python",
   "nbconvert_exporter": "python",
   "pygments_lexer": "ipython3",
   "version": "3.13.3"
  },
  "widgets": {
   "application/vnd.jupyter.widget-state+json": {
    "state": {},
    "version_major": 2,
    "version_minor": 0
   }
  }
 },
 "nbformat": 4,
 "nbformat_minor": 4
}