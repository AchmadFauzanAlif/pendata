{
 "cells": [
  {
   "cell_type": "markdown",
   "metadata": {},
   "source": [
    "# **DATA PREPARATION**"
   ]
  },
  {
   "cell_type": "markdown",
   "metadata": {},
   "source": [
    "Cupidatat enim ex in anim nisi nisi esse fugiat aliqua. Consectetur velit labore ipsum irure nostrud laborum magna cupidatat velit. Ut aliquip ut ea labore mollit nulla cupidatat commodo ex exercitation velit occaecat.\n",
    "\n",
    "Aute amet velit Lorem nisi minim commodo tempor. Anim laboris sunt exercitation tempor do deserunt consequat consequat voluptate. Qui cillum esse ipsum consectetur exercitation velit duis exercitation eiusmod. Consectetur aliqua tempor in cillum ex do proident eiusmod eiusmod enim dolore et proident. Culpa Lorem laboris incididunt ad esse ipsum. Nulla occaecat elit commodo aliquip ut esse deserunt amet aute culpa ipsum ad. Ex esse ea sit cupidatat reprehenderit id dolor deserunt.\n",
    "\n",
    "Velit Lorem incididunt qui Lorem labore deserunt. Occaecat tempor elit sit enim magna sint duis tempor. Sunt adipisicing ex sunt nisi id magna reprehenderit incididunt culpa. Magna non mollit anim aute minim amet pariatur non.\n",
    "\n",
    "Cillum pariatur sunt ipsum laboris elit sunt. Reprehenderit sunt cillum dolore culpa Lorem cupidatat esse consequat. Eu officia sint mollit magna veniam aliqua ut aute in mollit eiusmod ad in. Nulla in veniam nostrud irure amet eu exercitation. Sunt proident occaecat cupidatat qui dolor consectetur ut. Ea cupidatat exercitation magna aliqua. Aliquip cupidatat labore nisi pariatur adipisicing et ipsum qui esse do Lorem excepteur qui."
   ]
  }
 ],
 "metadata": {
  "language_info": {
   "codemirror_mode": {
    "name": "ipython",
    "version": 3
   },
   "file_extension": ".py",
   "mimetype": "text/x-python",
   "name": "python",
   "nbconvert_exporter": "python",
   "pygments_lexer": "ipython3",
   "version": "3.11.9"
  }
 },
 "nbformat": 4,
 "nbformat_minor": 2
}